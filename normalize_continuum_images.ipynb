{
 "cells": [
  {
   "cell_type": "code",
   "execution_count": null,
   "metadata": {},
   "outputs": [],
   "source": [
    "import numpy as np\n",
    "import os\n",
    "import glob\n",
    "import sunpy.map\n",
    "\n",
    "NBINS = 100\n",
    "\n",
    "folder_path = os.path.abspath(\n",
    "    '/home/lazar/Fak(s)/AF/prakse/SDSA/data/3481_11923_SHARP_CEA_ld_removed')\n",
    "new_folder_path = os.path.abspath(\n",
    "    '/home/lazar/Fak(s)/AF/prakse/SDSA/data/3481_11923_SHARP_CEA_normalized')"
   ]
  },
  {
   "cell_type": "code",
   "execution_count": null,
   "metadata": {},
   "outputs": [],
   "source": [
    "search_criterium = \"continuum_ld_removed\"\n",
    "sufix = \"_normalized\"\n",
    "\n",
    "data_list = sorted(glob.glob(os.path.join(\n",
    "    folder_path, \"*\"+search_criterium+\"*\")))"
   ]
  },
  {
   "cell_type": "code",
   "execution_count": null,
   "metadata": {},
   "outputs": [],
   "source": [
    "def wraper_func(filename):\n",
    "    # load sunpy map\n",
    "    I = sunpy.map.Map(filename)\n",
    "    # create histogram out of data\n",
    "    # density is normalization flag\n",
    "    weights, bin_edges = np.histogram(\n",
    "        I.data.flatten(), bins=NBINS, density=True)\n",
    "    # MAGIC I SAY!\n",
    "    # find maximum of histogram\n",
    "    k = (weights == np.max(weights)).nonzero()[0][0]\n",
    "    # find flux value for maximum of histogram\n",
    "    I_avg = (bin_edges[k+1]+bin_edges[k])/2\n",
    "    # update data\n",
    "    I_new = I.data/I_avg\n",
    "    # create new keyword in header\n",
    "    I.meta['AVG_F_ON'] = I_avg\n",
    "    # create new map\n",
    "    new_map = sunpy.map.Map(I_new, I.meta)\n",
    "    new_name = os.path.basename(filename).replace(\n",
    "        search_criterium, search_criterium+sufix)\n",
    "    # save map\n",
    "    new_map.save(os.path.join(new_folder_path, new_name))"
   ]
  },
  {
   "cell_type": "code",
   "execution_count": null,
   "metadata": {},
   "outputs": [],
   "source": [
    "from multiprocessing import Pool\n",
    "nproc = 4  # i have 4 cores + hyperthreading\n",
    "\n",
    "if __name__ == '__main__':\n",
    "    p = Pool(nproc)\n",
    "    p.map(wraper_func, data_list)"
   ]
  }
 ],
 "metadata": {
  "kernelspec": {
   "display_name": "Python 3",
   "language": "python",
   "name": "python3"
  },
  "language_info": {
   "codemirror_mode": {
    "name": "ipython",
    "version": 3
   },
   "file_extension": ".py",
   "mimetype": "text/x-python",
   "name": "python",
   "nbconvert_exporter": "python",
   "pygments_lexer": "ipython3",
   "version": "3.7.3"
  }
 },
 "nbformat": 4,
 "nbformat_minor": 2
}
