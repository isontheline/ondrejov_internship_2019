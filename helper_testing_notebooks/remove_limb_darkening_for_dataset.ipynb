{
 "cells": [
  {
   "cell_type": "markdown",
   "metadata": {},
   "source": [
    "# Remove limb darkening for whole dataset\n",
    "For detailed instruction see limb_darkening notebook with more detailed instruction for every step, this is only \"wraper\" around that notebook, written more pythonic and scalable"
   ]
  },
  {
   "cell_type": "code",
   "execution_count": 1,
   "metadata": {},
   "outputs": [],
   "source": [
    "import matplotlib.pyplot as plt\n",
    "import numpy as np\n",
    "from astropy.io import fits as pf\n",
    "import os\n",
    "import glob\n",
    "\n",
    "coef_limb_6205 = np.array(\n",
    "    [0.32519, 1.26432, -1.44591, 1.55723, -0.87415, 0.173333])\n",
    "\n",
    "def limb_dark(r, koef=coef_limb_6205):\n",
    "    # r is normalized distance from center [0,1]\n",
    "    if len(koef) != 6:\n",
    "        raise ValueErrror(\"koef len should be exactly 6\")\n",
    "    if np.max(r) > 1 or np.min(r) < 0:\n",
    "        raise ValueError(\"r should be in [0,1] range\") \n",
    "    mu = np.sqrt(1-r**2) # mu = cos(theta)\n",
    "    return koef[0]+koef[1]*mu+koef[2]*mu**2+koef[3]*mu**3+koef[4]*mu**4+koef[5]*mu**5\n",
    "\n",
    "data_dir_CEA = os.path.abspath(\n",
    "    \"/home/lazar/Fak(s)/AF/prakse/SDSA/data/3481_11923_SHARP_CEA\")\n",
    "\n",
    "data_dir_new = os.path.abspath(\n",
    "    \"/home/lazar/Fak(s)/AF/prakse/SDSA/data/3481_11923_SHARP_CEA_ld_removed\")\n",
    "\n",
    "search_criterium = \"continuum\"\n",
    "sufix = \"_ld_removed\"\n",
    "\n",
    "data_list_CEA = sorted(glob.glob(os.path.join(data_dir_CEA, \"*\"+search_criterium+\"*\")))\n",
    "\n",
    "#Use this to extract folder name so you can change it later when outputing images\n",
    "#os.path.dirname(data_list_CEA[1])\n",
    "\n",
    "#use replace to change search_criterum with sc+sufix, it works ok\n",
    "#print(data_list_CEA[1].replace(search_criterium, search_criterium+sufix))"
   ]
  },
  {
   "cell_type": "code",
   "execution_count": 1,
   "metadata": {},
   "outputs": [],
   "source": [
    "import sunpy.map\n",
    "import sunpy.coordinates.transformations\n",
    "from sunpy.coordinates import frames"
   ]
  },
  {
   "cell_type": "code",
   "execution_count": 2,
   "metadata": {},
   "outputs": [],
   "source": [
    "def correct_for_limb(sunpy_map):\n",
    "    #transform coordinates for map\n",
    "    #If there is no observer_coordinate it will use earth coordinates\n",
    "    #This is ok for SDO\n",
    "    helioproj_limb = sunpy.map.all_coordinates_from_map(sunpy_map).transform_to(\n",
    "    frames.Helioprojective(observer=sunpy_map.observer_coordinate))\n",
    "    #extract sun radii in arcsec calculated by HMI\n",
    "    #If value does not exists in header, use solar radii obs_date as seen from earth\n",
    "    rsun_hp_limb = sunpy_map.rsun_obs.value\n",
    "    #Calculate distance for every pixel \n",
    "    distance_from_limb = np.sqrt(\n",
    "    helioproj_limb.Tx.value**2+helioproj_limb.Ty.value**2)/rsun_hp_limb\n",
    "\n",
    "    limb_cor_data = sunpy_map.data / limb_dark(distance_from_limb)\n",
    "    \n",
    "    return sunpy.map.Map(limb_cor_data, sunpy_map.meta)\n"
   ]
  },
  {
   "cell_type": "code",
   "execution_count": null,
   "metadata": {},
   "outputs": [],
   "source": [
    "from multiprocessing import Pool\n",
    "nproc = 8 #i have 4 cores + hyperthreading\n",
    "\n",
    "#lets create wraper function for loading data into map and saving it\n",
    "#this is type void function (idl procedure) because i want to save everything from here\n",
    "#not to relay on return values from p.map\n",
    "\n",
    "def wraper_func(filename):\n",
    "    my_map = sunpy.map.Map(filename)\n",
    "    my_corrected_map = correct_for_limb(my_map)\n",
    "    new_name = os.path.basename(filename).replace(search_criterium, search_criterium+sufix)\n",
    "    my_corrected_map.save(os.path.join(data_dir_new, new_name))\n",
    "    \n",
    "\n",
    "if __name__ == '__main__':\n",
    "    p = Pool(nrpoc)\n",
    "    p.map(wraper_func, data_list_CEA)"
   ]
  }
 ],
 "metadata": {
  "kernelspec": {
   "display_name": "Python 3",
   "language": "python",
   "name": "python3"
  },
  "language_info": {
   "codemirror_mode": {
    "name": "ipython",
    "version": 3
   },
   "file_extension": ".py",
   "mimetype": "text/x-python",
   "name": "python",
   "nbconvert_exporter": "python",
   "pygments_lexer": "ipython3",
   "version": "3.7.3"
  }
 },
 "nbformat": 4,
 "nbformat_minor": 2
}
