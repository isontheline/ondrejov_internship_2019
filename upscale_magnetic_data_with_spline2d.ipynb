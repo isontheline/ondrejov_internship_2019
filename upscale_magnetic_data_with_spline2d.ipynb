{
 "cells": [
  {
   "cell_type": "code",
   "execution_count": 1,
   "metadata": {},
   "outputs": [],
   "source": [
    "import sunpy.map\n",
    "import matplotlib.pyplot as plt\n",
    "import numpy as np\n",
    "from astropy.io import fits as pf\n",
    "import astropy.units as u\n",
    "import os\n",
    "import glob\n",
    "# This makes nice big plots for matplotlib\n",
    "import matplotlib as mpl\n",
    "params = {'font.size': 14,\n",
    "          'figure.figsize': (15.0, 8.0),\n",
    "          'lines.linewidth': 2.,\n",
    "          'lines.markersize': 15,\n",
    "          'animation.embed_limit': 2048,\n",
    "          }\n",
    "mpl.rcParams.keys()\n",
    "mpl.rcParams.update(params)\n",
    "np.set_printoptions(suppress=True)\n",
    "\n",
    "#Replace this for dataset\n",
    "data_dir_CEA = os.path.abspath(\n",
    "    \"/home/lazar/Fak(s)/AF/prakse/SDSA/data/3481_11923_SHARP_CEA\")\n",
    "\n",
    "data_output_dir = os.path.abspath(\n",
    "    \"/home/lazar/Fak(s)/AF/prakse/SDSA/data/3481_11923_SHARP_CEA_upscaled_magnetic_data\")\n",
    "#search_criterium = \"continuum\"\n",
    "#sufix = \"_ld_removed\"\n",
    "\n",
    "#data_list_CEA = sorted(glob.glob(os.path.join(\n",
    "#    data_dir_CEA, \"*\"+search_criterium+\"*\")))"
   ]
  },
  {
   "cell_type": "code",
   "execution_count": 4,
   "metadata": {},
   "outputs": [],
   "source": [
    "search_criterium = \"Br\" #Bp, Bt\n",
    "sufix = \"_upscaled\"\n",
    "data_br = sorted(glob.glob(os.path.join(\n",
    "    data_dir_CEA, \"*\"+search_criterium+\"*\")))\n",
    "\n",
    "#filename = data_br[0]\n",
    "#new_name = os.path.basename(filename).replace(search_criterium, search_criterium+sufix)\n",
    "#print(filename)\n",
    "#print(new_name)\n",
    "#print(len(data_br))\n",
    "#hmi.sharp_cea_720s.3481.20131208_111200_TAI.Bp.fits\n",
    "#hmi.sharp_cea_720s.3481.20131208_111200_TAI.Br.fits\n",
    "#hmi.sharp_cea_720s.3481.20131208_111200_TAI.Bt.fits\n",
    "\n"
   ]
  },
  {
   "cell_type": "code",
   "execution_count": null,
   "metadata": {},
   "outputs": [],
   "source": [
    "from multiprocessing import Pool\n",
    "nproc = 4  # i have 4 cores + hyperthreading\n",
    "\n",
    "# lets create wraper function for loading data into map and saving it\n",
    "# this is type void function (idl procedure) because i want to save everything from here\n",
    "# not to relay on return values from p.map\n",
    "\n",
    "\n",
    "def wraper_func(filename):\n",
    "    my_map = sunpy.map.Map(filename)\n",
    "    new_dimension = u.Quantity([my_map.meta[\"naxis1\"]*2, my_map.meta[\"naxis2\"]*2], u.pixel)\n",
    "    my_corrected_map = my_map.resample(new_dimension, method='spline')\n",
    "    new_name = os.path.basename(filename).replace(search_criterium, search_criterium+sufix)\n",
    "    my_corrected_map.save(os.path.join(data_output_dir, new_name))\n",
    "\n",
    "\n",
    "if __name__ == '__main__':\n",
    "    p = Pool(nproc)\n",
    "    p.map(wraper_func, data_br)"
   ]
  }
 ],
 "metadata": {
  "kernelspec": {
   "display_name": "Python 3",
   "language": "python",
   "name": "python3"
  },
  "language_info": {
   "codemirror_mode": {
    "name": "ipython",
    "version": 3
   },
   "file_extension": ".py",
   "mimetype": "text/x-python",
   "name": "python",
   "nbconvert_exporter": "python",
   "pygments_lexer": "ipython3",
   "version": "3.7.3"
  }
 },
 "nbformat": 4,
 "nbformat_minor": 2
}
