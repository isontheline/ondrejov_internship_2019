{
 "cells": [
  {
   "cell_type": "code",
   "execution_count": 1,
   "metadata": {},
   "outputs": [],
   "source": [
    "import requests\n",
    "fsave='./HARP_TO_NOAA.txt'\n",
    "def fetch_newest_harpnum_to_noaa(filename=fsave):\n",
    "    '''\n",
    "    This function downloads newest harp to noaa mapping from jsoc\n",
    "    just call the function.\n",
    "    '''\n",
    "    url = 'http://jsoc.stanford.edu/doc/data/hmi/harpnum_to_noaa/all_harps_with_noaa_ars.txt'\n",
    "    r = requests.get(url)\n",
    "    with open(filename, 'wb') as f:\n",
    "        f.write(r.content)\n",
    "\n",
    "#fetch_newest_harpnum_to_noaa()"
   ]
  },
  {
   "cell_type": "code",
   "execution_count": 2,
   "metadata": {},
   "outputs": [],
   "source": [
    "# Read content of HARPS TO NOAA in content\n",
    "with open(fsave) as f:\n",
    "    content = [line.rstrip() for line in f]\n",
    "    \n",
    "def harp_from_noaa(NOAANUM):\n",
    "    '''\n",
    "    This returns HARP number for provided NOAA region from content file\n",
    "    '''\n",
    "    ins = [index for index, string in enumerate(content) if NOAANUM in string]\n",
    "    harpnum = [ content[x].split(' ')[0] for x in ins ]\n",
    "    if len(harpnum) != 1:\n",
    "        raise Exception(\"Be careful! Your region is over multiple HARPs or it was not found! HARPS: {}\".format(harpnum))\n",
    "    return harpnum[0]"
   ]
  },
  {
   "cell_type": "code",
   "execution_count": 3,
   "metadata": {},
   "outputs": [
    {
     "name": "stdout",
     "output_type": "stream",
     "text": [
      "3604\n"
     ]
    }
   ],
   "source": [
    "HARPNUM=harp_from_noaa(\"11950\")\n",
    "MY_MAIL='lazar.zivadinovic.994@gmail.com'\n",
    "print(HARPNUM)"
   ]
  },
  {
   "cell_type": "code",
   "execution_count": 4,
   "metadata": {},
   "outputs": [
    {
     "name": "stdout",
     "output_type": "stream",
     "text": [
      "['HARPNUM', 'T_REC']\n",
      "         T_REC          TELESCOP  INSTRUME WAVELNTH CAR_ROT\n",
      "----------------------- -------- --------- -------- -------\n",
      "2014.01.08_03:12:00_TAI  SDO/HMI HMI_SIDE1   6173.0    2145\n",
      "[{'primekey': {}, 'series': 'hmi.sharp_cea_720s', 'segment': ['Bp', 'magnetogram'], 'notify': 'lazar.zivadinovic.994@gmail.com'}]\n"
     ]
    },
    {
     "ename": "ValueError",
     "evalue": "Atleast one PrimeKey must be passed.",
     "output_type": "error",
     "traceback": [
      "\u001b[0;31m---------------------------------------------------------------------------\u001b[0m",
      "\u001b[0;31mValueError\u001b[0m                                Traceback (most recent call last)",
      "\u001b[0;32m<ipython-input-4-d42cbb1024e5>\u001b[0m in \u001b[0;36m<module>\u001b[0;34m\u001b[0m\n\u001b[1;32m     26\u001b[0m \u001b[0mprint\u001b[0m\u001b[0;34m(\u001b[0m\u001b[0mresjsoc\u001b[0m\u001b[0;34m)\u001b[0m\u001b[0;34m\u001b[0m\u001b[0;34m\u001b[0m\u001b[0m\n\u001b[1;32m     27\u001b[0m \u001b[0mprint\u001b[0m\u001b[0;34m(\u001b[0m\u001b[0mresjsoc\u001b[0m\u001b[0;34m.\u001b[0m\u001b[0mquery_args\u001b[0m\u001b[0;34m)\u001b[0m\u001b[0;34m\u001b[0m\u001b[0;34m\u001b[0m\u001b[0m\n\u001b[0;32m---> 28\u001b[0;31m \u001b[0mreq\u001b[0m \u001b[0;34m=\u001b[0m \u001b[0mclient\u001b[0m\u001b[0;34m.\u001b[0m\u001b[0mrequest_data\u001b[0m\u001b[0;34m(\u001b[0m\u001b[0mresjsoc\u001b[0m\u001b[0;34m)\u001b[0m\u001b[0;34m\u001b[0m\u001b[0;34m\u001b[0m\u001b[0m\n\u001b[0m\u001b[1;32m     29\u001b[0m \u001b[0;34m\u001b[0m\u001b[0m\n\u001b[1;32m     30\u001b[0m \u001b[0msave_path\u001b[0m \u001b[0;34m=\u001b[0m \u001b[0;34m'./'\u001b[0m\u001b[0;34m\u001b[0m\u001b[0;34m\u001b[0m\u001b[0m\n",
      "\u001b[0;32m~/science/codes/ondrejov_internship_2019/venv/lib/python3.7/site-packages/sunpy/net/jsoc/jsoc.py\u001b[0m in \u001b[0;36mrequest_data\u001b[0;34m(self, jsoc_response, **kwargs)\u001b[0m\n\u001b[1;32m    416\u001b[0m         \u001b[0;32mfor\u001b[0m \u001b[0mblock\u001b[0m \u001b[0;32min\u001b[0m \u001b[0mjsoc_response\u001b[0m\u001b[0;34m.\u001b[0m\u001b[0mquery_args\u001b[0m\u001b[0;34m:\u001b[0m\u001b[0;34m\u001b[0m\u001b[0;34m\u001b[0m\u001b[0m\n\u001b[1;32m    417\u001b[0m \u001b[0;34m\u001b[0m\u001b[0m\n\u001b[0;32m--> 418\u001b[0;31m             \u001b[0mds\u001b[0m \u001b[0;34m=\u001b[0m \u001b[0mself\u001b[0m\u001b[0;34m.\u001b[0m\u001b[0m_make_recordset\u001b[0m\u001b[0;34m(\u001b[0m\u001b[0;34m**\u001b[0m\u001b[0mblock\u001b[0m\u001b[0;34m)\u001b[0m\u001b[0;34m\u001b[0m\u001b[0;34m\u001b[0m\u001b[0m\n\u001b[0m\u001b[1;32m    419\u001b[0m             \u001b[0mcd\u001b[0m \u001b[0;34m=\u001b[0m \u001b[0mdrms\u001b[0m\u001b[0;34m.\u001b[0m\u001b[0mClient\u001b[0m\u001b[0;34m(\u001b[0m\u001b[0memail\u001b[0m\u001b[0;34m=\u001b[0m\u001b[0mblock\u001b[0m\u001b[0;34m.\u001b[0m\u001b[0mget\u001b[0m\u001b[0;34m(\u001b[0m\u001b[0;34m'notify'\u001b[0m\u001b[0;34m,\u001b[0m \u001b[0;34m''\u001b[0m\u001b[0;34m)\u001b[0m\u001b[0;34m)\u001b[0m\u001b[0;34m\u001b[0m\u001b[0;34m\u001b[0m\u001b[0m\n\u001b[1;32m    420\u001b[0m             \u001b[0mprotocol\u001b[0m \u001b[0;34m=\u001b[0m \u001b[0mblock\u001b[0m\u001b[0;34m.\u001b[0m\u001b[0mget\u001b[0m\u001b[0;34m(\u001b[0m\u001b[0;34m'protocol'\u001b[0m\u001b[0;34m,\u001b[0m \u001b[0;34m'fits'\u001b[0m\u001b[0;34m)\u001b[0m\u001b[0;34m\u001b[0m\u001b[0;34m\u001b[0m\u001b[0m\n",
      "\u001b[0;32m~/science/codes/ondrejov_internship_2019/venv/lib/python3.7/site-packages/sunpy/net/jsoc/jsoc.py\u001b[0m in \u001b[0;36m_make_recordset\u001b[0;34m(self, series, start_time, end_time, wavelength, segment, primekey, **kwargs)\u001b[0m\n\u001b[1;32m    750\u001b[0m             \u001b[0;31m# pkstr cannot be totally empty\u001b[0m\u001b[0;34m\u001b[0m\u001b[0;34m\u001b[0m\u001b[0;34m\u001b[0m\u001b[0m\n\u001b[1;32m    751\u001b[0m             \u001b[0merror_message\u001b[0m \u001b[0;34m=\u001b[0m \u001b[0;34m\"Atleast one PrimeKey must be passed.\"\u001b[0m\u001b[0;34m\u001b[0m\u001b[0;34m\u001b[0m\u001b[0m\n\u001b[0;32m--> 752\u001b[0;31m             \u001b[0;32mraise\u001b[0m \u001b[0mValueError\u001b[0m\u001b[0;34m(\u001b[0m\u001b[0merror_message\u001b[0m\u001b[0;34m)\u001b[0m\u001b[0;34m\u001b[0m\u001b[0;34m\u001b[0m\u001b[0m\n\u001b[0m\u001b[1;32m    753\u001b[0m \u001b[0;34m\u001b[0m\u001b[0m\n\u001b[1;32m    754\u001b[0m         dataset = '{series}{primekey}{segment}'.format(series=series,\n",
      "\u001b[0;31mValueError\u001b[0m: Atleast one PrimeKey must be passed."
     ]
    }
   ],
   "source": [
    "#Lets find primary keys and data sets for our set\n",
    "import drms\n",
    "c = drms.Client()\n",
    "si = c.info('hmi.sharp_cea_720s')\n",
    "# ['magnetogram' 'bitmap' 'Dopplergram' 'continuum' 'Bp' 'Bt' 'Br' 'Bp_err'\n",
    "# 'Bt_err' 'Br_err' 'conf_disambig']\n",
    "\n",
    "print(c.pkeys('hmi.sharp_cea_720s'))\n",
    "# ['HARPNUM', 'T_REC']\n",
    "\n",
    "# Lets make jsoc query \n",
    "from sunpy.net import jsoc\n",
    "from sunpy.net import attrs as a\n",
    "from sunpy.time import parse_time\n",
    "#initialize client\n",
    "client = jsoc.JSOCClient()\n",
    "# Create query\n",
    "resjsoc = client.search(a.jsoc.PrimeKey('HARPNUM', HARPNUM),\n",
    "                        a.jsoc.PrimeKey('T_REC', '2014.01.08_03:12:00_TAI'),\n",
    "                        #a.Time('2017-09-06T12:00:00', '2017-09-06T12:02:00'),\n",
    "                        a.jsoc.Series('hmi.sharp_cea_720s'),\n",
    "                        a.jsoc.Segment('Bp') & a.jsoc.Segment('magnetogram'), \n",
    "                        a.jsoc.Notify(MY_MAIL))\n",
    "\n",
    "\n",
    "print(resjsoc)\n",
    "print(resjsoc.query_args)\n",
    "req = client.request_data(resjsoc)\n",
    "\n",
    "save_path = './'\n",
    "res = client.get_request(req, path=save_path,progress=True, wait=True)\n",
    "print(res)\n",
    "print(type(res))\n",
    "print(dir(res))\n",
    "#res.wait(progress=True)\n",
    "\n"
   ]
  },
  {
   "cell_type": "code",
   "execution_count": null,
   "metadata": {},
   "outputs": [],
   "source": []
  }
 ],
 "metadata": {
  "kernelspec": {
   "display_name": "Python Ondrejov",
   "language": "python",
   "name": "ondrejov"
  },
  "language_info": {
   "codemirror_mode": {
    "name": "ipython",
    "version": 3
   },
   "file_extension": ".py",
   "mimetype": "text/x-python",
   "name": "python",
   "nbconvert_exporter": "python",
   "pygments_lexer": "ipython3",
   "version": "3.7.5"
  },
  "latex_envs": {
   "LaTeX_envs_menu_present": true,
   "autoclose": false,
   "autocomplete": true,
   "bibliofile": "biblio.bib",
   "cite_by": "apalike",
   "current_citInitial": 1,
   "eqLabelWithNumbers": true,
   "eqNumInitial": 1,
   "hotkeys": {
    "equation": "Ctrl-E",
    "itemize": "Ctrl-I"
   },
   "labels_anchors": false,
   "latex_user_defs": false,
   "report_style_numbering": false,
   "user_envs_cfg": false
  }
 },
 "nbformat": 4,
 "nbformat_minor": 4
}
