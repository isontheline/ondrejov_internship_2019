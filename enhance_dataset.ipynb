{
 "cells": [
  {
   "cell_type": "markdown",
   "metadata": {},
   "source": [
    "# For this to work, you need to put this .py script into enhance folder\n",
    "\n",
    "Their naming and refferences are messed up, and they didn't create importable code, just some wrapper around model\n",
    "\n",
    "There is no need to run in parallel because tensorflow does this automatically per image, so you will only slow your PC until it dies"
   ]
  },
  {
   "cell_type": "code",
   "execution_count": null,
   "metadata": {},
   "outputs": [],
   "source": [
    "from enhance import enhance\n",
    "import os\n",
    "import glob\n",
    "\n",
    "#Dir with normalized dataset\n",
    "data_dir_CEA = os.path.abspath(\n",
    "    \"/home/lazar/Fak(s)/AF/prakse/SDSA/enhance/3481_11923_SHARP_CEA_normalized\")\n",
    "# hmi.sharp_cea_720s.3481.20131218_161200_TAI.continuum_ld_removed_normalized.fits\n",
    "search_criterium = \"normalized\" #Bp, Bt\n",
    "sufix = \"_enhanced\"\n",
    "data_list = sorted(glob.glob(os.path.join(\n",
    "    data_dir_CEA, \"*\"+search_criterium+\"*\")))\n",
    "\n",
    "#outdir\n",
    "\n",
    "data_output_dir = os.path.abspath(\n",
    "    \"/home/lazar/Fak(s)/AF/prakse/SDSA/enhance/3481_11923_SHARP_CEA_enhanced\")"
   ]
  },
  {
   "cell_type": "code",
   "execution_count": null,
   "metadata": {},
   "outputs": [],
   "source": [
    "#these are default values as provided when you run\n",
    "#./enhance.py -i input.fits -t intensity -o out.fits\n",
    "\n",
    "depth = 5\n",
    "model = \"keepsize\"\n",
    "activation = \"relu\"\n",
    "ntype = \"intensity\"\n",
    "\n",
    "def wraper_func(filename):\n",
    "    outfile = os.path.basename(filename).replace(search_criterium, search_criterium+sufix)\n",
    "    ofile = os.path.join(data_output_dir, outfile)\n",
    "    out = enhance(inputFile=filename, depth=depth, model=model, activation=activation,ntype=ntype, output=ofile)\n",
    "    out.define_network()\n",
    "    out.predict()\n",
    "\n",
    "for i in data_list:\n",
    "    print(i)\n",
    "    wraper_func(i)"
   ]
  }
 ],
 "metadata": {
  "kernelspec": {
   "display_name": "Python 3",
   "language": "python",
   "name": "python3"
  },
  "language_info": {
   "codemirror_mode": {
    "name": "ipython",
    "version": 3
   },
   "file_extension": ".py",
   "mimetype": "text/x-python",
   "name": "python",
   "nbconvert_exporter": "python",
   "pygments_lexer": "ipython3",
   "version": "3.7.3"
  }
 },
 "nbformat": 4,
 "nbformat_minor": 2
}
